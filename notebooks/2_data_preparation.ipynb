{
 "cells": [
  {
   "cell_type": "code",
   "execution_count": 9,
   "metadata": {},
   "outputs": [],
   "source": [
    "import os\n",
    "import shutil\n",
    "from sklearn.model_selection import train_test_split\n",
    "from keras.preprocessing.image import ImageDataGenerator\n",
    "\n",
    "import json"
   ]
  },
  {
   "cell_type": "code",
   "execution_count": 2,
   "metadata": {},
   "outputs": [],
   "source": [
    "# Define Paths\n",
    "data_path = '../data/raw/PlantVillage'\n",
    "processed_data_path = '../data/processed/'"
   ]
  },
  {
   "cell_type": "code",
   "execution_count": 3,
   "metadata": {},
   "outputs": [],
   "source": [
    "# Create directories for processed data\n",
    "os.makedirs(os.path.join(processed_data_path, 'train'), exist_ok=True)\n",
    "os.makedirs(os.path.join(processed_data_path, 'val'), exist_ok=True)\n",
    "os.makedirs(os.path.join(processed_data_path, 'test'), exist_ok=True)"
   ]
  },
  {
   "cell_type": "code",
   "execution_count": 4,
   "metadata": {},
   "outputs": [],
   "source": [
    "# Define function to split data\n",
    "def split_data(base_path, classes, train_size=0.7, val_size=0.15):\n",
    "    for class_name in classes:\n",
    "        class_path = os.path.join(base_path, class_name)\n",
    "        image_files = os.listdir(class_path)\n",
    "        \n",
    "        # Split image files into train, val, test\n",
    "        train_files, test_files = train_test_split(image_files, test_size=1-train_size)\n",
    "        val_files, test_files = train_test_split(test_files, test_size=1-(val_size / (1-train_size)))\n",
    "        \n",
    "        # Move files to respective directories\n",
    "        for file_set, split_type in zip([train_files, val_files, test_files], ['train', 'val', 'test']):\n",
    "            dest_path = os.path.join(processed_data_path, split_type, class_name)\n",
    "            os.makedirs(dest_path, exist_ok=True)\n",
    "            for file in file_set:\n",
    "                shutil.copy(os.path.join(class_path, file), dest_path)"
   ]
  },
  {
   "cell_type": "code",
   "execution_count": 5,
   "metadata": {},
   "outputs": [],
   "source": [
    "# List classes\n",
    "classes = [d for d in os.listdir(data_path) if os.path.isdir(os.path.join(data_path, d))]"
   ]
  },
  {
   "cell_type": "code",
   "execution_count": 6,
   "metadata": {},
   "outputs": [
    {
     "data": {
      "text/plain": [
       "['Tomato_healthy',\n",
       " 'Potato___Early_blight',\n",
       " 'Tomato__Tomato_YellowLeaf__Curl_Virus',\n",
       " 'Tomato_Early_blight',\n",
       " 'Tomato__Target_Spot',\n",
       " 'Potato___Late_blight',\n",
       " 'Tomato_Leaf_Mold',\n",
       " 'Tomato_Spider_mites_Two_spotted_spider_mite',\n",
       " 'Tomato_Septoria_leaf_spot',\n",
       " 'Tomato__Tomato_mosaic_virus',\n",
       " 'Pepper__bell___Bacterial_spot',\n",
       " 'Tomato_Bacterial_spot',\n",
       " 'Tomato_Late_blight',\n",
       " 'Pepper__bell___healthy',\n",
       " 'Potato___healthy']"
      ]
     },
     "execution_count": 6,
     "metadata": {},
     "output_type": "execute_result"
    }
   ],
   "source": [
    "classes"
   ]
  },
  {
   "cell_type": "code",
   "execution_count": 7,
   "metadata": {},
   "outputs": [],
   "source": [
    "# Split data\n",
    "split_data(data_path, classes)"
   ]
  },
  {
   "cell_type": "code",
   "execution_count": 12,
   "metadata": {},
   "outputs": [
    {
     "name": "stdout",
     "output_type": "stream",
     "text": [
      "Found 14437 images belonging to 15 classes.\n",
      "Found 3089 images belonging to 15 classes.\n",
      "Found 3112 images belonging to 15 classes.\n"
     ]
    }
   ],
   "source": [
    "# Set up data generators\n",
    "train_datagen = ImageDataGenerator(\n",
    "    rescale=1./255,\n",
    "    rotation_range=20,\n",
    "    width_shift_range=0.2,\n",
    "    height_shift_range=0.2,\n",
    "    shear_range=0.2,\n",
    "    zoom_range=0.2,\n",
    "    horizontal_flip=True,\n",
    "    fill_mode='nearest'\n",
    ")\n",
    "\n",
    "val_datagen = ImageDataGenerator(rescale=1./255)\n",
    "test_datagen = ImageDataGenerator(rescale=1./255)\n",
    "\n",
    "# Data generators\n",
    "train_generator = train_datagen.flow_from_directory(\n",
    "    os.path.join(processed_data_path, 'train'),\n",
    "    target_size=(128, 128),\n",
    "    batch_size=32,\n",
    "    class_mode='categorical'\n",
    ")\n",
    "\n",
    "val_generator = val_datagen.flow_from_directory(\n",
    "    os.path.join(processed_data_path, 'val'),\n",
    "    target_size=(128, 128),\n",
    "    batch_size=32,\n",
    "    class_mode='categorical'\n",
    ")\n",
    "\n",
    "test_generator = test_datagen.flow_from_directory(\n",
    "    os.path.join(processed_data_path, 'test'),\n",
    "    target_size=(128, 128),\n",
    "    batch_size=32,\n",
    "    class_mode='categorical'\n",
    ")"
   ]
  },
  {
   "cell_type": "code",
   "execution_count": 10,
   "metadata": {},
   "outputs": [],
   "source": [
    "# Save paths for data generators\n",
    "data_paths = {\n",
    "    'train': os.path.join(processed_data_path, 'train'),\n",
    "    'val': os.path.join(processed_data_path, 'val'),\n",
    "    'test': os.path.join(processed_data_path, 'test')\n",
    "}\n",
    "\n",
    "# Save to a JSON file\n",
    "with open('data_paths.json', 'w') as f:\n",
    "    json.dump(data_paths, f)"
   ]
  },
  {
   "cell_type": "code",
   "execution_count": null,
   "metadata": {},
   "outputs": [],
   "source": []
  }
 ],
 "metadata": {
  "kernelspec": {
   "display_name": "deep_learning",
   "language": "python",
   "name": "python3"
  },
  "language_info": {
   "codemirror_mode": {
    "name": "ipython",
    "version": 3
   },
   "file_extension": ".py",
   "mimetype": "text/x-python",
   "name": "python",
   "nbconvert_exporter": "python",
   "pygments_lexer": "ipython3",
   "version": "3.8.19"
  }
 },
 "nbformat": 4,
 "nbformat_minor": 2
}
